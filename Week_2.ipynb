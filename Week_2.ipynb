{
 "cells": [
  {
   "cell_type": "code",
   "execution_count": 1,
   "outputs": [
    {
     "name": "stdout",
     "output_type": "stream",
     "text": [
      "a    1\n",
      "x    4\n",
      "c    9\n",
      "2    6\n",
      "e    7\n",
      "dtype: int64\n"
     ]
    },
    {
     "name": "stderr",
     "output_type": "stream",
     "text": [
      "C:\\Users\\Usama Maqsood\\AppData\\Local\\Temp\\ipykernel_16392\\1356076197.py:1: DeprecationWarning: \n",
      "Pyarrow will become a required dependency of pandas in the next major release of pandas (pandas 3.0),\n",
      "(to allow more performant data types, such as the Arrow string type, and better interoperability with other libraries)\n",
      "but was not found to be installed on your system.\n",
      "If this would cause problems for you,\n",
      "please provide us feedback at https://github.com/pandas-dev/pandas/issues/54466\n",
      "        \n",
      "  import pandas as pd\n"
     ]
    }
   ],
   "source": [
    "#Q.1: Write pandas series code to get following output without using dictionary\n",
    "import pandas as pd\n",
    "\n",
    "# Create a Pandas Series with specified index positions\n",
    "s = pd.Series([1, 4, 9, 6, 7], index=['a', 'x', 'c', '2', 'e'])\n",
    "\n",
    "# Print the Series\n",
    "print(s)\n"
   ],
   "metadata": {
    "collapsed": false,
    "ExecuteTime": {
     "end_time": "2024-02-09T10:49:00.526420600Z",
     "start_time": "2024-02-09T10:48:59.136841700Z"
    }
   },
   "id": "e71cbccce42c2a54"
  },
  {
   "cell_type": "code",
   "execution_count": 3,
   "outputs": [
    {
     "name": "stdout",
     "output_type": "stream",
     "text": [
      "{'Bilal': 42, 'Ayesha': 38, 'Hadia': 39}\n"
     ]
    }
   ],
   "source": [
    "#Q.2: Writer pandas series code to get following output using dictionary\n",
    "name = [ 'Bilal', 'Ayesha', 'Hadia']\n",
    "numb = [42,38,39]\n",
    "d = dict(zip(name,numb))\n",
    "print(d)"
   ],
   "metadata": {
    "collapsed": false,
    "ExecuteTime": {
     "end_time": "2024-02-09T10:54:35.351230400Z",
     "start_time": "2024-02-09T10:54:35.304353100Z"
    }
   },
   "id": "f86c6497ad6ef888"
  },
  {
   "cell_type": "code",
   "execution_count": 9,
   "outputs": [
    {
     "name": "stdout",
     "output_type": "stream",
     "text": [
      "        day  temperature  windSpeed  event\n",
      "0  1/1/2017           32          6   Rain\n",
      "1  1/2/2017           35          7  Sunny\n",
      "2  1/3/2017           28          2   Snow\n",
      "3  1/4/2017           24          7   Snow\n",
      "4  1/5/2017           32          4   Rain\n",
      "5  1/6/2017           31          2  Sunny\n"
     ]
    }
   ],
   "source": [
    "#Q.3: Write pandas dataframe code to get following output using python dictionary \n",
    "\n",
    "data = {\n",
    "    'day': ['1/1/2017', '1/2/2017', '1/3/2017', '1/4/2017', '1/5/2017', '1/6/2017'],\n",
    "    'temperature': [32, 35, 28, 24, 32, 31],\n",
    "    'windSpeed': [6, 7, 2, 7, 4, 2],\n",
    "    'event': ['Rain', 'Sunny', 'Snow', 'Snow', 'Rain', 'Sunny']\n",
    "}\n",
    "\n",
    "df = pd.DataFrame(data)\n",
    "\n",
    "print(df)\n"
   ],
   "metadata": {
    "collapsed": false,
    "ExecuteTime": {
     "end_time": "2024-02-09T11:19:35.528526500Z",
     "start_time": "2024-02-09T11:19:35.419078600Z"
    }
   },
   "id": "94df7256cfc65832"
  },
  {
   "cell_type": "code",
   "execution_count": 10,
   "outputs": [
    {
     "name": "stdout",
     "output_type": "stream",
     "text": [
      "        day  temperature  windSpeed  event\n",
      "a  1/1/2017           32          6   Rain\n",
      "b  1/2/2017           35          7  Sunny\n",
      "c  1/3/2017           28          2   Snow\n",
      "d  1/4/2017           24          7   Snow\n",
      "e  1/5/2017           32          4   Rain\n",
      "f  1/6/2017           31          2  Sunny\n"
     ]
    }
   ],
   "source": [
    "# Q-4 In extension to above question, you are required to replace index by ['a','b','c','d','e','f']\n",
    "# Set the index \n",
    "df.index = ['a', 'b', 'c', 'd', 'e', 'f']\n",
    "\n",
    "print(df)"
   ],
   "metadata": {
    "collapsed": false,
    "ExecuteTime": {
     "end_time": "2024-02-09T11:21:40.746166700Z",
     "start_time": "2024-02-09T11:21:40.714894700Z"
    }
   },
   "id": "f26118e61c615666"
  },
  {
   "cell_type": "code",
   "execution_count": 11,
   "outputs": [
    {
     "name": "stdout",
     "output_type": "stream",
     "text": [
      "Mean Temperature: 30.333333333333332\n",
      "Maximum Temperature: 35\n",
      "Minimum Temperature: 24\n"
     ]
    }
   ],
   "source": [
    "# Q.5 Calculate mean, max, min for temperature\n",
    "mean_data = df['temperature'].mean()\n",
    "max_data = df['temperature'].max()\n",
    "min_data = df['temperature'].min()\n",
    "\n",
    "print(\"Mean Temperature:\", mean_data)\n",
    "print(\"Maximum Temperature:\", max_data)\n",
    "print(\"Minimum Temperature:\", min_data)"
   ],
   "metadata": {
    "collapsed": false,
    "ExecuteTime": {
     "end_time": "2024-02-09T11:25:35.070805300Z",
     "start_time": "2024-02-09T11:25:34.977032900Z"
    }
   },
   "id": "3bc4161c19d96f1a"
  },
  {
   "cell_type": "code",
   "execution_count": 16,
   "outputs": [
    {
     "name": "stdout",
     "output_type": "stream",
     "text": [
      "   First Name     Sex                       Email                   Phone  \\\n",
      "0      Shelby    Male        elijah57@example.net  001-084-906-7849x73518   \n",
      "1     Phillip  Female       bethany14@example.com       214.112.6044x4913   \n",
      "2    Kristine    Male       bthompson@example.com            277.609.7938   \n",
      "3     Yesenia    Male   kaitlinkaiser@example.com            584.094.6111   \n",
      "4        Lori    Male  buchananmanuel@example.net       689-207-3558x7233   \n",
      "..        ...     ...                         ...                     ...   \n",
      "95     Dennis  Female         bmartin@example.org    001-095-524-2112x257   \n",
      "96      Steve  Female       latasha46@example.net        001-865-478-5157   \n",
      "97     Wesley    Male        regina11@example.org      995-542-3004x76800   \n",
      "98     Summer  Female  alexiscantrell@example.org    001-273-685-6932x092   \n",
      "99     Mariah    Male       pcopeland@example.org     (341)594-6554x44657   \n",
      "\n",
      "                Job Title  \n",
      "0         Games developer  \n",
      "1          Phytotherapist  \n",
      "2               Homeopath  \n",
      "3       Market researcher  \n",
      "4      Veterinary surgeon  \n",
      "..                    ...  \n",
      "95      Software engineer  \n",
      "96              Barrister  \n",
      "97         Police officer  \n",
      "98   Broadcast journalist  \n",
      "99  IT sales professional  \n",
      "\n",
      "[100 rows x 5 columns]\n"
     ]
    }
   ],
   "source": [
    "import pandas as pd\n",
    "\n",
    "# Path to the CSV file\n",
    "file_path = \"people.csv\"  \n",
    "\n",
    "# Columns to import\n",
    "columns_to_import = [\"First Name\", \"Sex\", \"Email\", \"Phone\", \"Job Title\"]\n",
    "\n",
    "# Read CSV file with specific columns\n",
    "df = pd.read_csv(file_path, usecols=columns_to_import)\n",
    "\n",
    "# Display the DataFrame\n",
    "print(df)\n"
   ],
   "metadata": {
    "collapsed": false,
    "ExecuteTime": {
     "end_time": "2024-02-09T12:05:08.444099700Z",
     "start_time": "2024-02-09T12:05:08.343763900Z"
    }
   },
   "id": "73b9b8317ee2c7c1"
  },
  {
   "cell_type": "code",
   "execution_count": 17,
   "outputs": [
    {
     "name": "stdout",
     "output_type": "stream",
     "text": [
      "                             First Name                       Email  \\\n",
      "Sex    Job Title                                                      \n",
      "Male   Games developer           Shelby        elijah57@example.net   \n",
      "Female Phytotherapist           Phillip       bethany14@example.com   \n",
      "Male   Homeopath               Kristine       bthompson@example.com   \n",
      "       Market researcher        Yesenia   kaitlinkaiser@example.com   \n",
      "       Veterinary surgeon          Lori  buchananmanuel@example.net   \n",
      "...                                 ...                         ...   \n",
      "Female Software engineer         Dennis         bmartin@example.org   \n",
      "       Barrister                  Steve       latasha46@example.net   \n",
      "Male   Police officer            Wesley        regina11@example.org   \n",
      "Female Broadcast journalist      Summer  alexiscantrell@example.org   \n",
      "Male   IT sales professional     Mariah       pcopeland@example.org   \n",
      "\n",
      "                                               Phone  \n",
      "Sex    Job Title                                      \n",
      "Male   Games developer        001-084-906-7849x73518  \n",
      "Female Phytotherapist              214.112.6044x4913  \n",
      "Male   Homeopath                        277.609.7938  \n",
      "       Market researcher                584.094.6111  \n",
      "       Veterinary surgeon          689-207-3558x7233  \n",
      "...                                              ...  \n",
      "Female Software engineer        001-095-524-2112x257  \n",
      "       Barrister                    001-865-478-5157  \n",
      "Male   Police officer             995-542-3004x76800  \n",
      "Female Broadcast journalist     001-273-685-6932x092  \n",
      "Male   IT sales professional     (341)594-6554x44657  \n",
      "\n",
      "[100 rows x 3 columns]\n"
     ]
    }
   ],
   "source": [
    "# Set \"Sex\" and \"Job Title\" as index columns\n",
    "df.set_index([\"Sex\", \"Job Title\"], inplace=True)\n",
    "\n",
    "# Display the DataFrame\n",
    "print(df)"
   ],
   "metadata": {
    "collapsed": false,
    "ExecuteTime": {
     "end_time": "2024-02-09T12:07:24.617201200Z",
     "start_time": "2024-02-09T12:07:24.570327900Z"
    }
   },
   "id": "466d29e5589a89af"
  },
  {
   "cell_type": "code",
   "execution_count": 18,
   "outputs": [
    {
     "name": "stdout",
     "output_type": "stream",
     "text": [
      "    Index          User Id First Name  Last Name     Sex  \\\n",
      "0       2  f90cD3E76f1A9b9    Phillip    Summers  Female   \n",
      "1       3  DbeAb8CcdfeFC2c   Kristine     Travis    Male   \n",
      "2       4  A31Bee3c201ef58    Yesenia   Martinez    Male   \n",
      "3       6  bfDD7CDEF5D865B       Erin        Day    Male   \n",
      "4       7  bE9EEf34cB72AF7  Katherine       Buck  Female   \n",
      "..    ...              ...        ...        ...     ...   \n",
      "93     96  5eFda7caAeB260E     Dennis     Barnes  Female   \n",
      "94     97  CCbFce93d3720bE      Steve  Patterson  Female   \n",
      "95     98  2fEc528aFAF0b69     Wesley       Bray    Male   \n",
      "96     99  Adc7ad9B6e4A1Fe     Summer   Oconnell  Female   \n",
      "97    100  b8D0aD3490FC7e1     Mariah    Bernard    Male   \n",
      "\n",
      "                         Email                  Phone Date of birth  \\\n",
      "0        bethany14@example.com      214.112.6044x4913    1910-03-24   \n",
      "1        bthompson@example.com           277.609.7938    1992-07-02   \n",
      "2    kaitlinkaiser@example.com           584.094.6111    2017-08-03   \n",
      "3          tconner@example.org  001-171-649-9856x5553    2015-10-28   \n",
      "4      conniecowan@example.com  +1-773-151-6685x49162    1989-01-22   \n",
      "..                         ...                    ...           ...   \n",
      "93         bmartin@example.org   001-095-524-2112x257    1954-07-30   \n",
      "94       latasha46@example.net       001-865-478-5157    1932-04-29   \n",
      "95        regina11@example.org     995-542-3004x76800    1994-12-28   \n",
      "96  alexiscantrell@example.org   001-273-685-6932x092    2012-04-12   \n",
      "97       pcopeland@example.org    (341)594-6554x44657    2016-11-15   \n",
      "\n",
      "                   Job Title  \n",
      "0             Phytotherapist  \n",
      "1                  Homeopath  \n",
      "2          Market researcher  \n",
      "3   Waste management officer  \n",
      "4       Intelligence analyst  \n",
      "..                       ...  \n",
      "93         Software engineer  \n",
      "94                 Barrister  \n",
      "95            Police officer  \n",
      "96      Broadcast journalist  \n",
      "97     IT sales professional  \n",
      "\n",
      "[98 rows x 9 columns]\n"
     ]
    }
   ],
   "source": [
    "# Rows to skip\n",
    "rows_to_skip = [1, 5]\n",
    "\n",
    "# Read CSV file, skipping specified rows\n",
    "df = pd.read_csv(file_path, skiprows=rows_to_skip)\n",
    "\n",
    "# Display the DataFrame\n",
    "print(df)"
   ],
   "metadata": {
    "collapsed": false,
    "ExecuteTime": {
     "end_time": "2024-02-09T12:08:56.208931400Z",
     "start_time": "2024-02-09T12:08:56.130783800Z"
    }
   },
   "id": "c824485294ff374b"
  },
  {
   "cell_type": "code",
   "execution_count": 19,
   "outputs": [
    {
     "name": "stdout",
     "output_type": "stream",
     "text": [
      "DataFrame exported to: new_people.csv\n"
     ]
    }
   ],
   "source": [
    "new_file_path = \"new_people.csv\"  \n",
    "\n",
    "# Export DataFrame to a new CSV file\n",
    "df.to_csv(new_file_path)\n",
    "\n",
    "print(\"DataFrame exported to:\", new_file_path)"
   ],
   "metadata": {
    "collapsed": false,
    "ExecuteTime": {
     "end_time": "2024-02-09T12:10:18.300704500Z",
     "start_time": "2024-02-09T12:10:18.236938500Z"
    }
   },
   "id": "19d524ee5068b295"
  },
  {
   "cell_type": "code",
   "execution_count": 21,
   "outputs": [
    {
     "name": "stdout",
     "output_type": "stream",
     "text": [
      "DataFrame exported to new sheet: Modified_Sheet\n"
     ]
    }
   ],
   "source": [
    "# Q.7 \n",
    "import pandas as pd\n",
    "\n",
    "# Path to the Excel file\n",
    "file_path = \"SampleWork.xlsx\"  \n",
    "\n",
    "# Columns to import\n",
    "columns_to_import = [0, -1]  # First and last column\n",
    "\n",
    "# Skip row 2\n",
    "skip_rows = [1]\n",
    "\n",
    "# Read Excel file, importing specific columns and skipping rows\n",
    "df = pd.read_excel(file_path, sheet_name=0, usecols=columns_to_import, skiprows=skip_rows)\n",
    "\n",
    "# Set row 2 as header\n",
    "header_row = 1\n",
    "df.columns = df.iloc[header_row]\n",
    "\n",
    "# Export DataFrame to a new sheet\n",
    "new_sheet = \"Modified_Sheet\"\n",
    "df.to_excel(file_path, sheet_name=new_sheet, index=False)\n",
    "\n",
    "print(\"DataFrame exported to new sheet:\", new_sheet)\n"
   ],
   "metadata": {
    "collapsed": false,
    "ExecuteTime": {
     "end_time": "2024-02-10T11:53:47.431536800Z",
     "start_time": "2024-02-10T11:53:45.524281600Z"
    }
   },
   "id": "c4a8407fcae0248"
  },
  {
   "cell_type": "code",
   "execution_count": 23,
   "outputs": [
    {
     "name": "stdout",
     "output_type": "stream",
     "text": [
      "DataFrame exported to new Excel file: Modified_SampleWork.xlsx\n"
     ]
    }
   ],
   "source": [
    "import pandas as pd\n",
    "\n",
    "# Path to the Excel file\n",
    "file_path = \"SampleWork.xlsx\"\n",
    "\n",
    "# Skip row 2\n",
    "skip_rows = [1]\n",
    "\n",
    "# Read Excel file by skipping row 2\n",
    "df = pd.read_excel(file_path, sheet_name=0, skiprows=skip_rows)\n",
    "\n",
    "# Set row no 2 as header\n",
    "header_row = 1\n",
    "df.columns = df.iloc[header_row]\n",
    "\n",
    "# Specify the new file path for the export\n",
    "new_path = \"Modified_SampleWork.xlsx\"\n",
    "\n",
    "# Export DataFrame to a new Excel file\n",
    "df.to_excel(new_path, index=False)\n",
    "\n",
    "print(\"DataFrame exported to new Excel file:\", new_path)\n"
   ],
   "metadata": {
    "collapsed": false,
    "ExecuteTime": {
     "end_time": "2024-02-10T12:07:45.117618800Z",
     "start_time": "2024-02-10T12:07:45.023879200Z"
    }
   },
   "id": "7be6324d1e4e3330"
  },
  {
   "cell_type": "code",
   "execution_count": 26,
   "outputs": [
    {
     "name": "stdout",
     "output_type": "stream",
     "text": [
      "    Name  Age   Address Qualification\n",
      "0  Sonia   27    Lahore           Msc\n",
      "1  Bilal   24   Karachi            MA\n",
      "2  Hifza   22   Sialkot           MCA\n",
      "3  Kabir   32  Peshawar           Phd\n",
      "4  Jazim   23       lhr           bsc\n"
     ]
    }
   ],
   "source": [
    "#Q.8 Create AICP_DF from the as:\n",
    "\n",
    "data = {\n",
    "    'Name': ['Sonia', 'Bilal', 'Hifza', 'Kabir', 'Jazim'],\n",
    "    'Age': [27,24,22,32,23],\n",
    "    'Address': ['Lahore','Karachi','Sialkot','Peshawar','lhr'],\n",
    "    'Qualification': ['Msc', 'MA', 'MCA', 'Phd', 'bsc']\n",
    "}\n",
    "\n",
    "AICP_DF = pd.DataFrame(data)\n",
    "\n",
    "print(AICP_DF)"
   ],
   "metadata": {
    "collapsed": false,
    "ExecuteTime": {
     "end_time": "2024-02-10T12:23:09.200515100Z",
     "start_time": "2024-02-10T12:23:09.148646400Z"
    }
   },
   "id": "8a6f6528b99ca3d3"
  },
  {
   "cell_type": "code",
   "execution_count": 27,
   "outputs": [
    {
     "name": "stdout",
     "output_type": "stream",
     "text": [
      "    Name Qualification\n",
      "0  Sonia           Msc\n",
      "1  Bilal            MA\n",
      "2  Hifza           MCA\n",
      "3  Kabir           Phd\n",
      "4  Jazim           bsc\n"
     ]
    }
   ],
   "source": [
    "# Selecting only 'Name' and 'Qualification' columns\n",
    "df1 = AICP_DF[['Name', 'Qualification']]\n",
    "print(df1)"
   ],
   "metadata": {
    "collapsed": false,
    "ExecuteTime": {
     "end_time": "2024-02-10T12:25:03.149254900Z",
     "start_time": "2024-02-10T12:25:02.993014300Z"
    }
   },
   "id": "119621c90d3640d1"
  },
  {
   "cell_type": "code",
   "execution_count": 31,
   "outputs": [
    {
     "name": "stdout",
     "output_type": "stream",
     "text": [
      "    Name  Age   Address Qualification  Height\n",
      "0  Sonia   27    Lahore           Msc     5.1\n",
      "1  Bilal   24   Karachi            MA     6.2\n",
      "2  Hifza   22   Sialkot           MCA     5.1\n",
      "3  Kabir   32  Peshawar           Phd     5.2\n",
      "4  Jazim   23       lhr           bsc     5.1\n"
     ]
    }
   ],
   "source": [
    "# Add a new column \"Height\" to the DataFrame with given val\n",
    "AICP_DF['Height'] = [5.1, 6.2, 5.1, 5.2, 5.1]\n",
    "print(AICP_DF)"
   ],
   "metadata": {
    "collapsed": false,
    "ExecuteTime": {
     "end_time": "2024-02-10T12:33:42.531349600Z",
     "start_time": "2024-02-10T12:33:42.437602600Z"
    }
   },
   "id": "3953a33eb56ff9df"
  },
  {
   "cell_type": "code",
   "execution_count": 32,
   "outputs": [
    {
     "name": "stdout",
     "output_type": "stream",
     "text": [
      "Age                   22\n",
      "Address          Sialkot\n",
      "Qualification        MCA\n",
      "Height               5.1\n",
      "Name: Hifza, dtype: object\n"
     ]
    }
   ],
   "source": [
    "# Set 'Name' column as index & Retrieve row 'Hifza'\n",
    "AICP_DF.set_index('Name', inplace=True)\n",
    "\n",
    "row = AICP_DF.loc['Hifza']\n",
    "\n",
    "print(row)"
   ],
   "metadata": {
    "collapsed": false,
    "ExecuteTime": {
     "end_time": "2024-02-10T12:34:13.444982500Z",
     "start_time": "2024-02-10T12:34:13.413733900Z"
    }
   },
   "id": "7c9542a2c384226"
  },
  {
   "cell_type": "code",
   "execution_count": 33,
   "outputs": [
    {
     "name": "stdout",
     "output_type": "stream",
     "text": [
      "Age                    32\n",
      "Address          Peshawar\n",
      "Qualification         Phd\n",
      "Height                5.2\n",
      "Name: Kabir, dtype: object\n"
     ]
    }
   ],
   "source": [
    "# Retrieve row with index 3\n",
    "row_index_3 = AICP_DF.iloc[3]\n",
    "\n",
    "print(row_index_3)"
   ],
   "metadata": {
    "collapsed": false,
    "ExecuteTime": {
     "end_time": "2024-02-10T12:34:21.928450700Z",
     "start_time": "2024-02-10T12:34:21.897176600Z"
    }
   },
   "id": "d7d07babbdbef826"
  },
  {
   "cell_type": "code",
   "execution_count": 34,
   "outputs": [
    {
     "name": "stdout",
     "output_type": "stream",
     "text": [
      "       Age   Address Qualification  Height\n",
      "Name                                      \n",
      "Sonia   27    Lahore           Msc     5.1\n",
      "Hifza   22   Sialkot           MCA     5.1\n",
      "Kabir   32  Peshawar           Phd     5.2\n",
      "Jazim   23       lhr           bsc     5.1\n"
     ]
    }
   ],
   "source": [
    "# Drop row with index 'Bilal'\n",
    "AICP_DF.drop(index='Bilal', inplace=True)\n",
    "print(AICP_DF)"
   ],
   "metadata": {
    "collapsed": false,
    "ExecuteTime": {
     "end_time": "2024-02-10T12:35:31.433246400Z",
     "start_time": "2024-02-10T12:35:31.329663300Z"
    }
   },
   "id": "d68499fbfa7d36d3"
  },
  {
   "cell_type": "code",
   "execution_count": 34,
   "outputs": [],
   "source": [],
   "metadata": {
    "collapsed": false,
    "ExecuteTime": {
     "end_time": "2024-02-10T12:35:31.691609700Z",
     "start_time": "2024-02-10T12:35:31.658980600Z"
    }
   },
   "id": "757fe8c97d7b7470"
  }
 ],
 "metadata": {
  "kernelspec": {
   "display_name": "Python 3",
   "language": "python",
   "name": "python3"
  },
  "language_info": {
   "codemirror_mode": {
    "name": "ipython",
    "version": 2
   },
   "file_extension": ".py",
   "mimetype": "text/x-python",
   "name": "python",
   "nbconvert_exporter": "python",
   "pygments_lexer": "ipython2",
   "version": "2.7.6"
  }
 },
 "nbformat": 4,
 "nbformat_minor": 5
}
